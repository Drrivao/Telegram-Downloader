{
  "cells": [
    {
      "cell_type": "markdown",
      "metadata": {
        "colab_type": "text",
        "id": "view-in-github"
      },
      "source": [
        "<a href=\"https://colab.research.google.com/github/Drrivao/Telegram-Downloader/blob/master/telegram_downloader.ipynb\" target=\"_parent\"><img src=\"https://colab.research.google.com/assets/colab-badge.svg\" alt=\"Open In Colab\"/></a>"
      ]
    },
    {
      "cell_type": "code",
      "execution_count": null,
      "metadata": {
        "cellView": "form",
        "id": "22xZ06Xa_HH7"
      },
      "outputs": [],
      "source": [
        "#@title *Start*\n",
        "from os.path import (\n",
        "  join,exists,split\n",
        ")\n",
        "from subprocess import run\n",
        "from google.colab import drive\n",
        "\n",
        "DRIVE_DIR=\"/content/drive/MyDrive\" #@param {type:\"string\"}\n",
        "DRIVE=DRIVE_DIR.split('/')[-1:][0]\n",
        "_DRIVE=f'\"{DRIVE}\"'\n",
        "DRIVE_DIR=DRIVE_DIR.replace(DRIVE,_DRIVE)\n",
        "dir=join(DRIVE_DIR,'\"Telegram-Downloader\"')\n",
        "drive.mount('/content/drive/')\n",
        "\n",
        "cmd1=\"add-apt-repository ppa:deadsnakes/ppa;apt-get update;apt-get install python3.11;\"+\\\n",
        "\"apt-get install python3.11-dev;wget https://bootstrap.pypa.io/get-pip.py && python3.11 get-pip.py\"\n",
        "cmd2='git clone https://github.com/Drrivao/Telegram-Downloader'\n",
        "cmd3='python3.11 -m pip install tgcrypto pyrogram rich'\n",
        "cmd4=f'mv \"Telegram-Downloader\" {DRIVE_DIR}'\n",
        "\n",
        "run(cmd1,shell=True)\n",
        "if not exists(dir):\n",
        "  for cmd in [cmd2,cmd3,cmd4]:\n",
        "    run(cmd,shell=True)\n",
        "else:run(cmd3,shell=True)\n",
        "\n",
        "%cd $dir"
      ]
    },
    {
      "cell_type": "code",
      "execution_count": null,
      "metadata": {
        "cellView": "form",
        "id": "SOJ0OOGvI9uI"
      },
      "outputs": [],
      "source": [
        "#@title *Credenciais*\n",
        "\n",
        "API_ID=\"YOUR API ID HERE\" #@param {type:\"string\"}\n",
        "API_HASH=\"YOUR API HASH HERE\" #@param {type:\"string\"}\n",
        "!python3.11 telegram_downloader.py -i $API_ID -s $API_HASH "
      ]
    },
    {
      "cell_type": "code",
      "execution_count": null,
      "metadata": {
        "cellView": "form",
        "id": "xZrpxsZvMLhS"
      },
      "outputs": [],
      "source": [
        "#@title  *Download*\n",
        "\n",
        "ORIG = \"ORIGIN CHAT TITLE\" #@param {type:\"raw\"}\n",
        "FILTER = \"all types\" #@param [\"all types\", \"photo\", \"document\", \"sticker\", \"animation\", \"audio\", \"voice\", \"video\"] {allow-input: true}\n",
        "QUERY = None #@param [] {type:\"raw\", allow-input: true}\n",
        "WORKERS = 0 #@param {type:\"integer\"}\n",
        "\n",
        "ORIG=f\"-o '{ORIG}'\"\n",
        "WORKERS=f\"-w '{WORKERS}'\" if\\\n",
        "WORKERS>0 else \"\"\n",
        "QUERY=f\"-q '{QUERY}'\" if QUERY\\\n",
        "is not None else \"\"\n",
        "FILTER=f\"-f '{FILTER}'\" if FILTER\\\n",
        "!= \"all types\" else \"\"\n",
        "\n",
        "!python3.11 telegram_downloader.py $ORIG $WORKERS $QUERY $FILTER"
      ]
    }
  ],
  "metadata": {
    "colab": {
      "authorship_tag": "ABX9TyNNlqGXPZmhVEOgnk4rAKuX",
      "collapsed_sections": [],
      "include_colab_link": true,
      "mount_file_id": "14Wj5-miXJ4Nw3nDlpBmE9Lmoj1fLdUyt",
      "provenance": []
    },
    "kernelspec": {
      "display_name": "Python 3.11.0rc2 64-bit",
      "language": "python",
      "name": "python3"
    },
    "language_info": {
      "name": "python",
      "version": "3.11.0"
    },
    "vscode": {
      "interpreter": {
        "hash": "e7370f93d1d0cde622a1f8e1c04877d8463912d04d973331ad4851f04de6915a"
      }
    }
  },
  "nbformat": 4,
  "nbformat_minor": 0
}
